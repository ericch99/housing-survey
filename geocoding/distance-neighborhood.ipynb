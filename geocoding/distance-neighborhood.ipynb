{
 "cells": [
  {
   "cell_type": "code",
   "execution_count": 10,
   "metadata": {},
   "outputs": [],
   "source": [
    "import math\n",
    "import numpy as np\n",
    "import pandas as pd"
   ]
  },
  {
   "cell_type": "markdown",
   "metadata": {},
   "source": [
    "## distance"
   ]
  },
  {
   "cell_type": "code",
   "execution_count": 2,
   "metadata": {},
   "outputs": [],
   "source": [
    "## returns straight-line (Euclidean) distance in km\n",
    "def distance(address, landmark):\n",
    "    lat1, lon1 = address\n",
    "    lat2, lon2 = landmark\n",
    "    p = 0.017453292519943295;    # Math.PI / 180\n",
    "    a = 0.5 - math.cos((lat2 - lat1) * p) / 2 + math.cos(lat1 * p) * math.cos(lat2 * p) * (1 - math.cos((lon2 - lon1) * p)) / 2;\n",
    "\n",
    "    return 12742 * math.asin(math.sqrt(a)) # 2 * R; R = 6371 km"
   ]
  },
  {
   "cell_type": "code",
   "execution_count": 3,
   "metadata": {},
   "outputs": [
    {
     "data": {
      "text/plain": [
       "2.031583762765907"
      ]
     },
     "execution_count": 3,
     "metadata": {},
     "output_type": "execute_result"
    }
   ],
   "source": [
    "# test function -- CCTC to Pierpont\n",
    "distance((42.278165, -83.734749), (42.291151, -83.717377))"
   ]
  },
  {
   "cell_type": "code",
   "execution_count": 4,
   "metadata": {},
   "outputs": [],
   "source": [
    "# load data\n",
    "df = pd.read_csv('../data/geocoded_data/coords.csv', lineterminator='\\n').drop('Unnamed: 0', axis=1).rename(columns={'latitude': 'lat', 'longitude': 'lon'})"
   ]
  },
  {
   "cell_type": "code",
   "execution_count": 5,
   "metadata": {},
   "outputs": [],
   "source": [
    "# drop entries with no price or coordinates\n",
    "df = df[df['address'].notnull() & df['lat'].notnull()]"
   ]
  },
  {
   "cell_type": "code",
   "execution_count": 6,
   "metadata": {},
   "outputs": [],
   "source": [
    "landmarks = ['CCTC', 'Pierpont', 'Stadium', 'Union', 'Ross', 'IM', 'NCRB', 'CCRB', 'UgLi']\n",
    "landmark_coords = [(42.278165, -83.734749), \n",
    "                   (42.291151, -83.717377), \n",
    "                   (42.265865, -83.748684),\n",
    "                   (42.275177, -83.741517),\n",
    "                   (42.278046, -83.738220),\n",
    "                   (42.269382, -83.749068),\n",
    "                   (42.295156, -83.714627),\n",
    "                   (42.281104, -83.733603),\n",
    "                   (42.275654, -83.737176)]\n",
    "\n",
    "for landmark, coord in zip(landmarks, landmark_coords):\n",
    "    s = f'distance_to_{landmark}'\n",
    "    addresses = zip(df.lat, df.lon)\n",
    "    dist = []\n",
    "    for address in addresses:\n",
    "        dist.append(distance(address, coord))\n",
    "    df[f'distance_to_{landmark}'] = dist"
   ]
  },
  {
   "cell_type": "code",
   "execution_count": 7,
   "metadata": {
    "scrolled": true
   },
   "outputs": [
    {
     "data": {
      "text/html": [
       "<div>\n",
       "<style scoped>\n",
       "    .dataframe tbody tr th:only-of-type {\n",
       "        vertical-align: middle;\n",
       "    }\n",
       "\n",
       "    .dataframe tbody tr th {\n",
       "        vertical-align: top;\n",
       "    }\n",
       "\n",
       "    .dataframe thead th {\n",
       "        text-align: right;\n",
       "    }\n",
       "</style>\n",
       "<table border=\"1\" class=\"dataframe\">\n",
       "  <thead>\n",
       "    <tr style=\"text-align: right;\">\n",
       "      <th></th>\n",
       "      <th>address</th>\n",
       "      <th>price</th>\n",
       "      <th>bed</th>\n",
       "      <th>bath</th>\n",
       "      <th>area</th>\n",
       "      <th>company</th>\n",
       "      <th>neighborhood</th>\n",
       "      <th>laundry</th>\n",
       "      <th>pets</th>\n",
       "      <th>parking</th>\n",
       "      <th>...</th>\n",
       "      <th>lon</th>\n",
       "      <th>distance_to_CCTC</th>\n",
       "      <th>distance_to_Pierpont</th>\n",
       "      <th>distance_to_Stadium</th>\n",
       "      <th>distance_to_Union</th>\n",
       "      <th>distance_to_Ross</th>\n",
       "      <th>distance_to_IM</th>\n",
       "      <th>distance_to_NCRB</th>\n",
       "      <th>distance_to_CCRB</th>\n",
       "      <th>distance_to_UgLi</th>\n",
       "    </tr>\n",
       "  </thead>\n",
       "  <tbody>\n",
       "    <tr>\n",
       "      <th>0</th>\n",
       "      <td>3050 Birch Hollow Dr</td>\n",
       "      <td>1095.0</td>\n",
       "      <td>2.0</td>\n",
       "      <td>1.0</td>\n",
       "      <td>876</td>\n",
       "      <td>NaN</td>\n",
       "      <td>NaN</td>\n",
       "      <td>1.0</td>\n",
       "      <td>1.0</td>\n",
       "      <td>1.0</td>\n",
       "      <td>...</td>\n",
       "      <td>-83.718505</td>\n",
       "      <td>4.557801</td>\n",
       "      <td>5.802060</td>\n",
       "      <td>3.886862</td>\n",
       "      <td>4.448382</td>\n",
       "      <td>4.637215</td>\n",
       "      <td>4.213861</td>\n",
       "      <td>6.254798</td>\n",
       "      <td>4.846131</td>\n",
       "      <td>4.358015</td>\n",
       "    </tr>\n",
       "    <tr>\n",
       "      <th>1</th>\n",
       "      <td>912 Rose Ave</td>\n",
       "      <td>2000.0</td>\n",
       "      <td>4.0</td>\n",
       "      <td>2.5</td>\n",
       "      <td>2000</td>\n",
       "      <td>NaN</td>\n",
       "      <td>NaN</td>\n",
       "      <td>1.0</td>\n",
       "      <td>1.0</td>\n",
       "      <td>1.0</td>\n",
       "      <td>...</td>\n",
       "      <td>-83.738165</td>\n",
       "      <td>1.762333</td>\n",
       "      <td>3.614058</td>\n",
       "      <td>0.942182</td>\n",
       "      <td>1.434291</td>\n",
       "      <td>1.726546</td>\n",
       "      <td>1.177845</td>\n",
       "      <td>4.113428</td>\n",
       "      <td>2.100388</td>\n",
       "      <td>1.462828</td>\n",
       "    </tr>\n",
       "    <tr>\n",
       "      <th>3</th>\n",
       "      <td>1505 Natalie Lane near Kipling Drive</td>\n",
       "      <td>1385.0</td>\n",
       "      <td>1.0</td>\n",
       "      <td>1.0</td>\n",
       "      <td>800</td>\n",
       "      <td>NaN</td>\n",
       "      <td>NaN</td>\n",
       "      <td>1.0</td>\n",
       "      <td>1.0</td>\n",
       "      <td>1.0</td>\n",
       "      <td>...</td>\n",
       "      <td>-83.683362</td>\n",
       "      <td>4.577147</td>\n",
       "      <td>2.815139</td>\n",
       "      <td>6.215570</td>\n",
       "      <td>5.219680</td>\n",
       "      <td>4.846902</td>\n",
       "      <td>6.056612</td>\n",
       "      <td>2.575089</td>\n",
       "      <td>4.372745</td>\n",
       "      <td>4.872060</td>\n",
       "    </tr>\n",
       "    <tr>\n",
       "      <th>4</th>\n",
       "      <td>1505 Natalie Lane near Kipling Drive</td>\n",
       "      <td>1185.0</td>\n",
       "      <td>1.0</td>\n",
       "      <td>1.0</td>\n",
       "      <td>800</td>\n",
       "      <td>NaN</td>\n",
       "      <td>NaN</td>\n",
       "      <td>1.0</td>\n",
       "      <td>1.0</td>\n",
       "      <td>1.0</td>\n",
       "      <td>...</td>\n",
       "      <td>-83.683362</td>\n",
       "      <td>4.577147</td>\n",
       "      <td>2.815139</td>\n",
       "      <td>6.215570</td>\n",
       "      <td>5.219680</td>\n",
       "      <td>4.846902</td>\n",
       "      <td>6.056612</td>\n",
       "      <td>2.575089</td>\n",
       "      <td>4.372745</td>\n",
       "      <td>4.872060</td>\n",
       "    </tr>\n",
       "    <tr>\n",
       "      <th>6</th>\n",
       "      <td>1505 Natalie Lane near Kipling Drive</td>\n",
       "      <td>1375.0</td>\n",
       "      <td>1.0</td>\n",
       "      <td>1.0</td>\n",
       "      <td>800</td>\n",
       "      <td>NaN</td>\n",
       "      <td>NaN</td>\n",
       "      <td>1.0</td>\n",
       "      <td>1.0</td>\n",
       "      <td>0.0</td>\n",
       "      <td>...</td>\n",
       "      <td>-83.683362</td>\n",
       "      <td>4.577147</td>\n",
       "      <td>2.815139</td>\n",
       "      <td>6.215570</td>\n",
       "      <td>5.219680</td>\n",
       "      <td>4.846902</td>\n",
       "      <td>6.056612</td>\n",
       "      <td>2.575089</td>\n",
       "      <td>4.372745</td>\n",
       "      <td>4.872060</td>\n",
       "    </tr>\n",
       "  </tbody>\n",
       "</table>\n",
       "<p>5 rows × 29 columns</p>\n",
       "</div>"
      ],
      "text/plain": [
       "                                address   price  bed  bath  area company  \\\n",
       "0                  3050 Birch Hollow Dr  1095.0  2.0   1.0   876     NaN   \n",
       "1                          912 Rose Ave  2000.0  4.0   2.5  2000     NaN   \n",
       "3  1505 Natalie Lane near Kipling Drive  1385.0  1.0   1.0   800     NaN   \n",
       "4  1505 Natalie Lane near Kipling Drive  1185.0  1.0   1.0   800     NaN   \n",
       "6  1505 Natalie Lane near Kipling Drive  1375.0  1.0   1.0   800     NaN   \n",
       "\n",
       "  neighborhood  laundry  pets  parking  ...        lon distance_to_CCTC  \\\n",
       "0          NaN      1.0   1.0      1.0  ... -83.718505         4.557801   \n",
       "1          NaN      1.0   1.0      1.0  ... -83.738165         1.762333   \n",
       "3          NaN      1.0   1.0      1.0  ... -83.683362         4.577147   \n",
       "4          NaN      1.0   1.0      1.0  ... -83.683362         4.577147   \n",
       "6          NaN      1.0   1.0      0.0  ... -83.683362         4.577147   \n",
       "\n",
       "   distance_to_Pierpont distance_to_Stadium distance_to_Union  \\\n",
       "0              5.802060            3.886862          4.448382   \n",
       "1              3.614058            0.942182          1.434291   \n",
       "3              2.815139            6.215570          5.219680   \n",
       "4              2.815139            6.215570          5.219680   \n",
       "6              2.815139            6.215570          5.219680   \n",
       "\n",
       "  distance_to_Ross distance_to_IM distance_to_NCRB  distance_to_CCRB  \\\n",
       "0         4.637215       4.213861         6.254798          4.846131   \n",
       "1         1.726546       1.177845         4.113428          2.100388   \n",
       "3         4.846902       6.056612         2.575089          4.372745   \n",
       "4         4.846902       6.056612         2.575089          4.372745   \n",
       "6         4.846902       6.056612         2.575089          4.372745   \n",
       "\n",
       "   distance_to_UgLi  \n",
       "0          4.358015  \n",
       "1          1.462828  \n",
       "3          4.872060  \n",
       "4          4.872060  \n",
       "6          4.872060  \n",
       "\n",
       "[5 rows x 29 columns]"
      ]
     },
     "execution_count": 7,
     "metadata": {},
     "output_type": "execute_result"
    }
   ],
   "source": [
    "df.head()"
   ]
  },
  {
   "cell_type": "markdown",
   "metadata": {},
   "source": [
    "## neighborhood"
   ]
  },
  {
   "cell_type": "code",
   "execution_count": 8,
   "metadata": {},
   "outputs": [],
   "source": [
    "import geopandas as gp\n",
    "from shapely.geometry import Point, Polygon, shape\n",
    "\n",
    "gs = gp.GeoSeries.from_file('../map/map2.geojson')\n",
    "names = ['North Ingalls', \n",
    "         'Old Fourth Ward', \n",
    "         'Old West Side', \n",
    "         'Germantown', \n",
    "         'Elbel', \n",
    "         'Yost', \n",
    "         'East Packard', \n",
    "         'Tappan',\n",
    "         'North Burns Park', \n",
    "         'Oxbridge',\n",
    "         'South University',\n",
    "         'West Murfin',\n",
    "         'Northside']"
   ]
  },
  {
   "cell_type": "code",
   "execution_count": 11,
   "metadata": {},
   "outputs": [],
   "source": [
    "def calc_neighborhood(listing):\n",
    "    pt = Point(listing['lon'], listing['lat']) \n",
    "    for nbhd, name in zip(gs, names):\n",
    "        nbhd = shape(nbhd)\n",
    "        if pt.within(nbhd):\n",
    "            return name\n",
    "\n",
    "    return 'Other Surrounding Areas'        \n",
    "\n",
    "neighborhoods = []\n",
    "for i, listing in df.iterrows():\n",
    "    neighborhoods.append(calc_neighborhood(listing))\n",
    "\n",
    "df['neighborhood'] = np.array(neighborhoods)"
   ]
  },
  {
   "cell_type": "code",
   "execution_count": 15,
   "metadata": {},
   "outputs": [
    {
     "data": {
      "text/plain": [
       "array(['Other Surrounding Areas', 'Old Fourth Ward', 'Old West Side',\n",
       "       'Germantown', 'Northside', 'North Ingalls', 'North Burns Park',\n",
       "       'Elbel', 'South University', 'East Packard', 'Oxbridge', 'Tappan',\n",
       "       'Yost', 'West Murfin'], dtype=object)"
      ]
     },
     "execution_count": 15,
     "metadata": {},
     "output_type": "execute_result"
    }
   ],
   "source": [
    "df.groupby(['neighborhood'].unique()"
   ]
  },
  {
   "cell_type": "code",
   "execution_count": 74,
   "metadata": {},
   "outputs": [],
   "source": [
    "# save new data\n",
    "df.to_json('../data/model_data/data.json')"
   ]
  },
  {
   "cell_type": "code",
   "execution_count": null,
   "metadata": {},
   "outputs": [],
   "source": []
  }
 ],
 "metadata": {
  "kernelspec": {
   "display_name": "Python 3",
   "language": "python",
   "name": "python3"
  },
  "language_info": {
   "codemirror_mode": {
    "name": "ipython",
    "version": 3
   },
   "file_extension": ".py",
   "mimetype": "text/x-python",
   "name": "python",
   "nbconvert_exporter": "python",
   "pygments_lexer": "ipython3",
   "version": "3.7.3"
  }
 },
 "nbformat": 4,
 "nbformat_minor": 2
}
